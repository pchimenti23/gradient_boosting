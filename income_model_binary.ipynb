{
  "cells": [
    {
      "cell_type": "markdown",
      "metadata": {
        "id": "QCAqcUyCi20Z"
      },
      "source": [
        "**This notebook is intended as a walkthrough for beginners to learn how to use boosted tree models for classification.  Some, but not all, key concepts are explored.  Although neural networks are very popular and sometimes superior, they are often not necessary or can even be inferior to a more basic approach.**\n",
        "\n",
        "**A high level (and oversimplified) way of understanding these models is that they are basically building a series of decision trees (think CART) and then taking a weighted average of their results.  There is actually way more to it than that and it is worth taking the time to truly understand what is going on \"under the hood\".  However, that basic understanding is enough to build useful models.**"
      ]
    },
    {
      "cell_type": "markdown",
      "metadata": {
        "id": "45u8REyPi20d"
      },
      "source": [
        "**First it is necessary to load the following packages.**"
      ]
    },
    {
      "cell_type": "code",
      "execution_count": 35,
      "metadata": {
        "id": "g_cpv36ei20e"
      },
      "outputs": [],
      "source": [
        "import pandas as pd\n",
        "import numpy as np\n",
        "from sklearn import ensemble\n",
        "from sklearn import datasets\n",
        "from sklearn.utils import shuffle\n",
        "from sklearn.metrics import mean_squared_error\n",
        "from sklearn.metrics import matthews_corrcoef\n",
        "from sklearn.inspection import (partial_dependence, PartialDependenceDisplay)\n",
        "from sklearn.model_selection import train_test_split\n",
        "from sklearn.model_selection import GridSearchCV\n",
        "from decimal import Decimal\n"
      ]
    },
    {
      "cell_type": "markdown",
      "metadata": {
        "id": "V4SYX7mxi20i"
      },
      "source": [
        "**A list of column names is constructed.  It will be applied as the data is being read.**"
      ]
    },
    {
      "cell_type": "code",
      "execution_count": 36,
      "metadata": {
        "id": "wq5oNZbBi20j"
      },
      "outputs": [],
      "source": [
        "\n",
        "cols = ['age', 'workclass', 'fnlwgt', 'education', 'education_num',\n",
        "        'marital_status', 'occupation', 'relationship', 'ethnicity',\n",
        "        'gender', 'capital_gain', 'capital_loss', 'hours_per_week',\n",
        "        'country_of_origin', 'income']"
      ]
    },
    {
      "cell_type": "markdown",
      "metadata": {
        "id": "GxeopVLvi20k"
      },
      "source": [
        "**Read in data as a pandas data frame.  This is a well known pulic data set.**"
      ]
    },
    {
      "cell_type": "code",
      "execution_count": 37,
      "metadata": {
        "id": "jlusUSXpi20k"
      },
      "outputs": [],
      "source": [
        "raw_data = pd.read_csv('http://archive.ics.uci.edu/ml/machine-learning-databases/adult/adult.data',\n",
        "                       names = cols)\n"
      ]
    },
    {
      "cell_type": "markdown",
      "metadata": {
        "id": "Xq8s8mnFi20m"
      },
      "source": [
        "**As long as the data is not too large, it is a good idea (especially for beginners) to make a copy of the raw data.  This will allow easy checking of the before and after state of  the data after different manipulations are performed.  If this were a production pipeline, this would probably not be done.**"
      ]
    },
    {
      "cell_type": "code",
      "execution_count": 38,
      "metadata": {
        "id": "QuF94u5fi20o"
      },
      "outputs": [],
      "source": [
        "data = raw_data\n"
      ]
    },
    {
      "cell_type": "markdown",
      "metadata": {
        "id": "Qjp9ET0ti20p"
      },
      "source": [
        "**Now check that the data looks as expected at this point.**"
      ]
    },
    {
      "cell_type": "code",
      "execution_count": 39,
      "metadata": {
        "id": "7jDzPIhOi20q",
        "outputId": "4d347358-d0a1-452e-c041-9c67037d6031",
        "colab": {
          "base_uri": "https://localhost:8080/",
          "height": 340
        }
      },
      "outputs": [
        {
          "output_type": "execute_result",
          "data": {
            "text/plain": [
              "   age          workclass  fnlwgt   education  education_num  \\\n",
              "0   39          State-gov   77516   Bachelors             13   \n",
              "1   50   Self-emp-not-inc   83311   Bachelors             13   \n",
              "2   38            Private  215646     HS-grad              9   \n",
              "3   53            Private  234721        11th              7   \n",
              "4   28            Private  338409   Bachelors             13   \n",
              "\n",
              "        marital_status          occupation    relationship ethnicity   gender  \\\n",
              "0        Never-married        Adm-clerical   Not-in-family     White     Male   \n",
              "1   Married-civ-spouse     Exec-managerial         Husband     White     Male   \n",
              "2             Divorced   Handlers-cleaners   Not-in-family     White     Male   \n",
              "3   Married-civ-spouse   Handlers-cleaners         Husband     Black     Male   \n",
              "4   Married-civ-spouse      Prof-specialty            Wife     Black   Female   \n",
              "\n",
              "   capital_gain  capital_loss  hours_per_week country_of_origin  income  \n",
              "0          2174             0              40     United-States   <=50K  \n",
              "1             0             0              13     United-States   <=50K  \n",
              "2             0             0              40     United-States   <=50K  \n",
              "3             0             0              40     United-States   <=50K  \n",
              "4             0             0              40              Cuba   <=50K  "
            ],
            "text/html": [
              "\n",
              "  <div id=\"df-8969eb56-af52-4381-8153-85445203dd71\">\n",
              "    <div class=\"colab-df-container\">\n",
              "      <div>\n",
              "<style scoped>\n",
              "    .dataframe tbody tr th:only-of-type {\n",
              "        vertical-align: middle;\n",
              "    }\n",
              "\n",
              "    .dataframe tbody tr th {\n",
              "        vertical-align: top;\n",
              "    }\n",
              "\n",
              "    .dataframe thead th {\n",
              "        text-align: right;\n",
              "    }\n",
              "</style>\n",
              "<table border=\"1\" class=\"dataframe\">\n",
              "  <thead>\n",
              "    <tr style=\"text-align: right;\">\n",
              "      <th></th>\n",
              "      <th>age</th>\n",
              "      <th>workclass</th>\n",
              "      <th>fnlwgt</th>\n",
              "      <th>education</th>\n",
              "      <th>education_num</th>\n",
              "      <th>marital_status</th>\n",
              "      <th>occupation</th>\n",
              "      <th>relationship</th>\n",
              "      <th>ethnicity</th>\n",
              "      <th>gender</th>\n",
              "      <th>capital_gain</th>\n",
              "      <th>capital_loss</th>\n",
              "      <th>hours_per_week</th>\n",
              "      <th>country_of_origin</th>\n",
              "      <th>income</th>\n",
              "    </tr>\n",
              "  </thead>\n",
              "  <tbody>\n",
              "    <tr>\n",
              "      <th>0</th>\n",
              "      <td>39</td>\n",
              "      <td>State-gov</td>\n",
              "      <td>77516</td>\n",
              "      <td>Bachelors</td>\n",
              "      <td>13</td>\n",
              "      <td>Never-married</td>\n",
              "      <td>Adm-clerical</td>\n",
              "      <td>Not-in-family</td>\n",
              "      <td>White</td>\n",
              "      <td>Male</td>\n",
              "      <td>2174</td>\n",
              "      <td>0</td>\n",
              "      <td>40</td>\n",
              "      <td>United-States</td>\n",
              "      <td>&lt;=50K</td>\n",
              "    </tr>\n",
              "    <tr>\n",
              "      <th>1</th>\n",
              "      <td>50</td>\n",
              "      <td>Self-emp-not-inc</td>\n",
              "      <td>83311</td>\n",
              "      <td>Bachelors</td>\n",
              "      <td>13</td>\n",
              "      <td>Married-civ-spouse</td>\n",
              "      <td>Exec-managerial</td>\n",
              "      <td>Husband</td>\n",
              "      <td>White</td>\n",
              "      <td>Male</td>\n",
              "      <td>0</td>\n",
              "      <td>0</td>\n",
              "      <td>13</td>\n",
              "      <td>United-States</td>\n",
              "      <td>&lt;=50K</td>\n",
              "    </tr>\n",
              "    <tr>\n",
              "      <th>2</th>\n",
              "      <td>38</td>\n",
              "      <td>Private</td>\n",
              "      <td>215646</td>\n",
              "      <td>HS-grad</td>\n",
              "      <td>9</td>\n",
              "      <td>Divorced</td>\n",
              "      <td>Handlers-cleaners</td>\n",
              "      <td>Not-in-family</td>\n",
              "      <td>White</td>\n",
              "      <td>Male</td>\n",
              "      <td>0</td>\n",
              "      <td>0</td>\n",
              "      <td>40</td>\n",
              "      <td>United-States</td>\n",
              "      <td>&lt;=50K</td>\n",
              "    </tr>\n",
              "    <tr>\n",
              "      <th>3</th>\n",
              "      <td>53</td>\n",
              "      <td>Private</td>\n",
              "      <td>234721</td>\n",
              "      <td>11th</td>\n",
              "      <td>7</td>\n",
              "      <td>Married-civ-spouse</td>\n",
              "      <td>Handlers-cleaners</td>\n",
              "      <td>Husband</td>\n",
              "      <td>Black</td>\n",
              "      <td>Male</td>\n",
              "      <td>0</td>\n",
              "      <td>0</td>\n",
              "      <td>40</td>\n",
              "      <td>United-States</td>\n",
              "      <td>&lt;=50K</td>\n",
              "    </tr>\n",
              "    <tr>\n",
              "      <th>4</th>\n",
              "      <td>28</td>\n",
              "      <td>Private</td>\n",
              "      <td>338409</td>\n",
              "      <td>Bachelors</td>\n",
              "      <td>13</td>\n",
              "      <td>Married-civ-spouse</td>\n",
              "      <td>Prof-specialty</td>\n",
              "      <td>Wife</td>\n",
              "      <td>Black</td>\n",
              "      <td>Female</td>\n",
              "      <td>0</td>\n",
              "      <td>0</td>\n",
              "      <td>40</td>\n",
              "      <td>Cuba</td>\n",
              "      <td>&lt;=50K</td>\n",
              "    </tr>\n",
              "  </tbody>\n",
              "</table>\n",
              "</div>\n",
              "      <button class=\"colab-df-convert\" onclick=\"convertToInteractive('df-8969eb56-af52-4381-8153-85445203dd71')\"\n",
              "              title=\"Convert this dataframe to an interactive table.\"\n",
              "              style=\"display:none;\">\n",
              "        \n",
              "  <svg xmlns=\"http://www.w3.org/2000/svg\" height=\"24px\"viewBox=\"0 0 24 24\"\n",
              "       width=\"24px\">\n",
              "    <path d=\"M0 0h24v24H0V0z\" fill=\"none\"/>\n",
              "    <path d=\"M18.56 5.44l.94 2.06.94-2.06 2.06-.94-2.06-.94-.94-2.06-.94 2.06-2.06.94zm-11 1L8.5 8.5l.94-2.06 2.06-.94-2.06-.94L8.5 2.5l-.94 2.06-2.06.94zm10 10l.94 2.06.94-2.06 2.06-.94-2.06-.94-.94-2.06-.94 2.06-2.06.94z\"/><path d=\"M17.41 7.96l-1.37-1.37c-.4-.4-.92-.59-1.43-.59-.52 0-1.04.2-1.43.59L10.3 9.45l-7.72 7.72c-.78.78-.78 2.05 0 2.83L4 21.41c.39.39.9.59 1.41.59.51 0 1.02-.2 1.41-.59l7.78-7.78 2.81-2.81c.8-.78.8-2.07 0-2.86zM5.41 20L4 18.59l7.72-7.72 1.47 1.35L5.41 20z\"/>\n",
              "  </svg>\n",
              "      </button>\n",
              "      \n",
              "  <style>\n",
              "    .colab-df-container {\n",
              "      display:flex;\n",
              "      flex-wrap:wrap;\n",
              "      gap: 12px;\n",
              "    }\n",
              "\n",
              "    .colab-df-convert {\n",
              "      background-color: #E8F0FE;\n",
              "      border: none;\n",
              "      border-radius: 50%;\n",
              "      cursor: pointer;\n",
              "      display: none;\n",
              "      fill: #1967D2;\n",
              "      height: 32px;\n",
              "      padding: 0 0 0 0;\n",
              "      width: 32px;\n",
              "    }\n",
              "\n",
              "    .colab-df-convert:hover {\n",
              "      background-color: #E2EBFA;\n",
              "      box-shadow: 0px 1px 2px rgba(60, 64, 67, 0.3), 0px 1px 3px 1px rgba(60, 64, 67, 0.15);\n",
              "      fill: #174EA6;\n",
              "    }\n",
              "\n",
              "    [theme=dark] .colab-df-convert {\n",
              "      background-color: #3B4455;\n",
              "      fill: #D2E3FC;\n",
              "    }\n",
              "\n",
              "    [theme=dark] .colab-df-convert:hover {\n",
              "      background-color: #434B5C;\n",
              "      box-shadow: 0px 1px 3px 1px rgba(0, 0, 0, 0.15);\n",
              "      filter: drop-shadow(0px 1px 2px rgba(0, 0, 0, 0.3));\n",
              "      fill: #FFFFFF;\n",
              "    }\n",
              "  </style>\n",
              "\n",
              "      <script>\n",
              "        const buttonEl =\n",
              "          document.querySelector('#df-8969eb56-af52-4381-8153-85445203dd71 button.colab-df-convert');\n",
              "        buttonEl.style.display =\n",
              "          google.colab.kernel.accessAllowed ? 'block' : 'none';\n",
              "\n",
              "        async function convertToInteractive(key) {\n",
              "          const element = document.querySelector('#df-8969eb56-af52-4381-8153-85445203dd71');\n",
              "          const dataTable =\n",
              "            await google.colab.kernel.invokeFunction('convertToInteractive',\n",
              "                                                     [key], {});\n",
              "          if (!dataTable) return;\n",
              "\n",
              "          const docLinkHtml = 'Like what you see? Visit the ' +\n",
              "            '<a target=\"_blank\" href=https://colab.research.google.com/notebooks/data_table.ipynb>data table notebook</a>'\n",
              "            + ' to learn more about interactive tables.';\n",
              "          element.innerHTML = '';\n",
              "          dataTable['output_type'] = 'display_data';\n",
              "          await google.colab.output.renderOutput(dataTable, element);\n",
              "          const docLink = document.createElement('div');\n",
              "          docLink.innerHTML = docLinkHtml;\n",
              "          element.appendChild(docLink);\n",
              "        }\n",
              "      </script>\n",
              "    </div>\n",
              "  </div>\n",
              "  "
            ]
          },
          "metadata": {},
          "execution_count": 39
        }
      ],
      "source": [
        "data.head()\n"
      ]
    },
    {
      "cell_type": "code",
      "execution_count": 40,
      "metadata": {
        "id": "BRzDaCGzi20q",
        "outputId": "e088fb47-00bb-4ef2-fef2-f99c7e19bdd8",
        "colab": {
          "base_uri": "https://localhost:8080/"
        }
      },
      "outputs": [
        {
          "output_type": "execute_result",
          "data": {
            "text/plain": [
              "Index(['age', 'workclass', 'fnlwgt', 'education', 'education_num',\n",
              "       'marital_status', 'occupation', 'relationship', 'ethnicity', 'gender',\n",
              "       'capital_gain', 'capital_loss', 'hours_per_week', 'country_of_origin',\n",
              "       'income'],\n",
              "      dtype='object')"
            ]
          },
          "metadata": {},
          "execution_count": 40
        }
      ],
      "source": [
        "data.columns\n"
      ]
    },
    {
      "cell_type": "markdown",
      "metadata": {
        "id": "d5ZOmEqli20r"
      },
      "source": [
        "**Now the target must be defined.  This is a binary classification problem so it will be coded as 1/0.  The model itself will output a probability (between 0 and 1) when applied to data.  At that point, a method will be needed for transforming that probability into a firm prediction if the application calls for it.  For some applications (like credit scoring), the raw output is used in a different way.**"
      ]
    },
    {
      "cell_type": "markdown",
      "metadata": {
        "id": "_TzJxlDYi20u"
      },
      "source": [
        "**First check the variable to be transformed**"
      ]
    },
    {
      "cell_type": "code",
      "execution_count": 41,
      "metadata": {
        "id": "RAwW7lkKi20v",
        "outputId": "c31011af-d88a-4e79-8486-ee19ed5231c1",
        "colab": {
          "base_uri": "https://localhost:8080/"
        }
      },
      "outputs": [
        {
          "output_type": "execute_result",
          "data": {
            "text/plain": [
              " <=50K    24720\n",
              " >50K      7841\n",
              "Name: income, dtype: int64"
            ]
          },
          "metadata": {},
          "execution_count": 41
        }
      ],
      "source": [
        "data.income.value_counts()"
      ]
    },
    {
      "cell_type": "markdown",
      "metadata": {
        "id": "t9bL5zx_i20v"
      },
      "source": [
        "**There are two classes so this should be a straightforward conversion.**"
      ]
    },
    {
      "cell_type": "code",
      "execution_count": 42,
      "metadata": {
        "id": "sh0Ct8zii20w"
      },
      "outputs": [],
      "source": [
        "target = np.zeros(len(data))\n",
        "\n",
        "for i in range(len(data)):\n",
        "    if data.income.values[i] == ' >50K':\n",
        "        target[i] = 1\n",
        "        \n",
        "data['target'] = target\n"
      ]
    },
    {
      "cell_type": "markdown",
      "metadata": {
        "id": "yV-FJP8Hi20x"
      },
      "source": [
        "**Check that the conversion worked properly**"
      ]
    },
    {
      "cell_type": "code",
      "execution_count": 43,
      "metadata": {
        "id": "niQ0TAhSi20x",
        "outputId": "c92d8806-233a-4aa0-fb4f-dd4e5d71ab11",
        "colab": {
          "base_uri": "https://localhost:8080/"
        }
      },
      "outputs": [
        {
          "output_type": "execute_result",
          "data": {
            "text/plain": [
              "0.0    24720\n",
              "1.0     7841\n",
              "Name: target, dtype: int64"
            ]
          },
          "metadata": {},
          "execution_count": 43
        }
      ],
      "source": [
        "data.target.value_counts()"
      ]
    },
    {
      "cell_type": "code",
      "execution_count": 44,
      "metadata": {
        "id": "BAW0uenSi20y",
        "outputId": "1a309912-a3f1-45dd-c71f-9c96b8dbdd02",
        "colab": {
          "base_uri": "https://localhost:8080/"
        }
      },
      "outputs": [
        {
          "output_type": "execute_result",
          "data": {
            "text/plain": [
              " <=50K    24720\n",
              " >50K      7841\n",
              "Name: income, dtype: int64"
            ]
          },
          "metadata": {},
          "execution_count": 44
        }
      ],
      "source": [
        "data.income.value_counts()"
      ]
    },
    {
      "cell_type": "markdown",
      "metadata": {
        "id": "FNN1iym2i20y"
      },
      "source": [
        "**The target is set.  Now it is time to do some feature engineering.**"
      ]
    },
    {
      "cell_type": "markdown",
      "metadata": {
        "id": "bqMI5-5ci20z"
      },
      "source": [
        "**The gender column currently contains text.  It will need to undergo the same transformation as our target variable.  It will be coded as as 1 for female and 0 for male.**"
      ]
    },
    {
      "cell_type": "code",
      "execution_count": 45,
      "metadata": {
        "id": "2Qzay7emi20z"
      },
      "outputs": [],
      "source": [
        "gender_num = np.zeros(len(data))\n",
        "\n",
        "for i in range(len(data)):\n",
        "    if data.gender.values[i] == ' Female':\n",
        "        gender_num[i] = 1\n",
        "        \n",
        "data['gender_num'] = gender_num"
      ]
    },
    {
      "cell_type": "code",
      "execution_count": 46,
      "metadata": {
        "id": "ujB6mxati200",
        "outputId": "64081cc3-037b-43f2-8241-5e904ea5be5c",
        "colab": {
          "base_uri": "https://localhost:8080/"
        }
      },
      "outputs": [
        {
          "output_type": "execute_result",
          "data": {
            "text/plain": [
              " Male      21790\n",
              " Female    10771\n",
              "Name: gender, dtype: int64"
            ]
          },
          "metadata": {},
          "execution_count": 46
        }
      ],
      "source": [
        "data.gender.value_counts()"
      ]
    },
    {
      "cell_type": "code",
      "execution_count": 47,
      "metadata": {
        "id": "j2mwPnk0i200",
        "outputId": "b50ff3fb-ea68-4c47-c793-dfbb09e232fa",
        "colab": {
          "base_uri": "https://localhost:8080/"
        }
      },
      "outputs": [
        {
          "output_type": "execute_result",
          "data": {
            "text/plain": [
              "0.0    21790\n",
              "1.0    10771\n",
              "Name: gender_num, dtype: int64"
            ]
          },
          "metadata": {},
          "execution_count": 47
        }
      ],
      "source": [
        "data.gender_num.value_counts()"
      ]
    },
    {
      "cell_type": "markdown",
      "metadata": {
        "id": "lSA9DinPi200"
      },
      "source": [
        "\n",
        "**The workclass column has text padded with white space.  It will make life easier if we strip out the wihite space.  We will also rename the classes because they contain symbols that will not work as column names. Some classes are collapsed as they are similar.  In this case, the assumption is that information is not lost by collapsing and there is increased predictive power in unifying these categories.  This is not always the case.  Careful thought should be given to collapsing categorical features and testing of different collapsing schema should be considered.**"
      ]
    },
    {
      "cell_type": "code",
      "execution_count": 48,
      "metadata": {
        "id": "bJ3RCGFDi201",
        "outputId": "2f281fbb-d543-4d6c-c3d8-b354aebbb17b",
        "colab": {
          "base_uri": "https://localhost:8080/"
        }
      },
      "outputs": [
        {
          "output_type": "execute_result",
          "data": {
            "text/plain": [
              " Private             22696\n",
              " Self-emp-not-inc     2541\n",
              " Local-gov            2093\n",
              " ?                    1836\n",
              " State-gov            1298\n",
              " Self-emp-inc         1116\n",
              " Federal-gov           960\n",
              " Without-pay            14\n",
              " Never-worked            7\n",
              "Name: workclass, dtype: int64"
            ]
          },
          "metadata": {},
          "execution_count": 48
        }
      ],
      "source": [
        "data.workclass.value_counts()"
      ]
    },
    {
      "cell_type": "code",
      "execution_count": 49,
      "metadata": {
        "id": "OrNPvXYui201"
      },
      "outputs": [],
      "source": [
        "data.workclass = data.workclass.str.strip()\n",
        "\n",
        "data['workclass_buckets'] = data.workclass.replace(['Private' #begin old names\n",
        "                                                    , 'Self-emp-not-inc'\n",
        "                                                    , 'Local-gov'\n",
        "                                                    , '?'\n",
        "                                                    , 'State-gov'\n",
        "                                                    , 'Self-emp-inc'\n",
        "                                                    , 'Federal-gov'\n",
        "                                                    , 'Without-pay'\n",
        "                                                    , 'Never-worked'] \n",
        "                                                    , ['pvt' #begin new names\n",
        "                                                    , 'self'\n",
        "                                                    , 'govt'\n",
        "                                                    , 'other'\n",
        "                                                    , 'govt'\n",
        "                                                    , 'self'\n",
        "                                                    , 'govt'\n",
        "                                                    , 'other'\n",
        "                                                    , 'other'])"
      ]
    },
    {
      "cell_type": "markdown",
      "metadata": {
        "id": "yureXww9i202"
      },
      "source": [
        "**Check that workclass collapsed properly.**"
      ]
    },
    {
      "cell_type": "code",
      "execution_count": 50,
      "metadata": {
        "id": "5vLlufP1i202",
        "outputId": "282e8e8b-2259-489d-c4ff-1029fde19593",
        "colab": {
          "base_uri": "https://localhost:8080/"
        }
      },
      "outputs": [
        {
          "output_type": "execute_result",
          "data": {
            "text/plain": [
              "pvt      22696\n",
              "govt      4351\n",
              "self      3657\n",
              "other     1857\n",
              "Name: workclass_buckets, dtype: int64"
            ]
          },
          "metadata": {},
          "execution_count": 50
        }
      ],
      "source": [
        "data.workclass_buckets.value_counts()"
      ]
    },
    {
      "cell_type": "markdown",
      "metadata": {
        "id": "5uRpqgJOi203"
      },
      "source": [
        "**Since these features are purely categorical (no meaningful numeric assignment can be made), they will need to be one hot encoded.**"
      ]
    },
    {
      "cell_type": "code",
      "execution_count": 51,
      "metadata": {
        "id": "oe9Lt2Yai203"
      },
      "outputs": [],
      "source": [
        "wcb = data.workclass_buckets\n",
        "data = data.assign(wcb=wcb.values)\n",
        "data.loc[:,'wcb'] = wcb.values\n",
        "data = pd.get_dummies(data, columns=['wcb'])"
      ]
    },
    {
      "cell_type": "markdown",
      "metadata": {
        "id": "wQGivWGfi203"
      },
      "source": [
        "**Check that the encoding was performed properly.**"
      ]
    },
    {
      "cell_type": "code",
      "execution_count": 52,
      "metadata": {
        "id": "Xm9lLR8Ui204",
        "outputId": "4f62e97c-557a-4d18-855a-398c5e9d6873",
        "colab": {
          "base_uri": "https://localhost:8080/",
          "height": 363
        }
      },
      "outputs": [
        {
          "output_type": "execute_result",
          "data": {
            "text/plain": [
              "          workclass workclass_buckets  wcb_govt  wcb_self  wcb_pvt  wcb_other\n",
              "0         State-gov              govt         1         0        0          0\n",
              "1  Self-emp-not-inc              self         0         1        0          0\n",
              "2           Private               pvt         0         0        1          0\n",
              "3           Private               pvt         0         0        1          0\n",
              "4           Private               pvt         0         0        1          0\n",
              "5           Private               pvt         0         0        1          0\n",
              "6           Private               pvt         0         0        1          0\n",
              "7  Self-emp-not-inc              self         0         1        0          0\n",
              "8           Private               pvt         0         0        1          0\n",
              "9           Private               pvt         0         0        1          0"
            ],
            "text/html": [
              "\n",
              "  <div id=\"df-a8318c8e-7cb3-469f-b142-5c60a0a967b0\">\n",
              "    <div class=\"colab-df-container\">\n",
              "      <div>\n",
              "<style scoped>\n",
              "    .dataframe tbody tr th:only-of-type {\n",
              "        vertical-align: middle;\n",
              "    }\n",
              "\n",
              "    .dataframe tbody tr th {\n",
              "        vertical-align: top;\n",
              "    }\n",
              "\n",
              "    .dataframe thead th {\n",
              "        text-align: right;\n",
              "    }\n",
              "</style>\n",
              "<table border=\"1\" class=\"dataframe\">\n",
              "  <thead>\n",
              "    <tr style=\"text-align: right;\">\n",
              "      <th></th>\n",
              "      <th>workclass</th>\n",
              "      <th>workclass_buckets</th>\n",
              "      <th>wcb_govt</th>\n",
              "      <th>wcb_self</th>\n",
              "      <th>wcb_pvt</th>\n",
              "      <th>wcb_other</th>\n",
              "    </tr>\n",
              "  </thead>\n",
              "  <tbody>\n",
              "    <tr>\n",
              "      <th>0</th>\n",
              "      <td>State-gov</td>\n",
              "      <td>govt</td>\n",
              "      <td>1</td>\n",
              "      <td>0</td>\n",
              "      <td>0</td>\n",
              "      <td>0</td>\n",
              "    </tr>\n",
              "    <tr>\n",
              "      <th>1</th>\n",
              "      <td>Self-emp-not-inc</td>\n",
              "      <td>self</td>\n",
              "      <td>0</td>\n",
              "      <td>1</td>\n",
              "      <td>0</td>\n",
              "      <td>0</td>\n",
              "    </tr>\n",
              "    <tr>\n",
              "      <th>2</th>\n",
              "      <td>Private</td>\n",
              "      <td>pvt</td>\n",
              "      <td>0</td>\n",
              "      <td>0</td>\n",
              "      <td>1</td>\n",
              "      <td>0</td>\n",
              "    </tr>\n",
              "    <tr>\n",
              "      <th>3</th>\n",
              "      <td>Private</td>\n",
              "      <td>pvt</td>\n",
              "      <td>0</td>\n",
              "      <td>0</td>\n",
              "      <td>1</td>\n",
              "      <td>0</td>\n",
              "    </tr>\n",
              "    <tr>\n",
              "      <th>4</th>\n",
              "      <td>Private</td>\n",
              "      <td>pvt</td>\n",
              "      <td>0</td>\n",
              "      <td>0</td>\n",
              "      <td>1</td>\n",
              "      <td>0</td>\n",
              "    </tr>\n",
              "    <tr>\n",
              "      <th>5</th>\n",
              "      <td>Private</td>\n",
              "      <td>pvt</td>\n",
              "      <td>0</td>\n",
              "      <td>0</td>\n",
              "      <td>1</td>\n",
              "      <td>0</td>\n",
              "    </tr>\n",
              "    <tr>\n",
              "      <th>6</th>\n",
              "      <td>Private</td>\n",
              "      <td>pvt</td>\n",
              "      <td>0</td>\n",
              "      <td>0</td>\n",
              "      <td>1</td>\n",
              "      <td>0</td>\n",
              "    </tr>\n",
              "    <tr>\n",
              "      <th>7</th>\n",
              "      <td>Self-emp-not-inc</td>\n",
              "      <td>self</td>\n",
              "      <td>0</td>\n",
              "      <td>1</td>\n",
              "      <td>0</td>\n",
              "      <td>0</td>\n",
              "    </tr>\n",
              "    <tr>\n",
              "      <th>8</th>\n",
              "      <td>Private</td>\n",
              "      <td>pvt</td>\n",
              "      <td>0</td>\n",
              "      <td>0</td>\n",
              "      <td>1</td>\n",
              "      <td>0</td>\n",
              "    </tr>\n",
              "    <tr>\n",
              "      <th>9</th>\n",
              "      <td>Private</td>\n",
              "      <td>pvt</td>\n",
              "      <td>0</td>\n",
              "      <td>0</td>\n",
              "      <td>1</td>\n",
              "      <td>0</td>\n",
              "    </tr>\n",
              "  </tbody>\n",
              "</table>\n",
              "</div>\n",
              "      <button class=\"colab-df-convert\" onclick=\"convertToInteractive('df-a8318c8e-7cb3-469f-b142-5c60a0a967b0')\"\n",
              "              title=\"Convert this dataframe to an interactive table.\"\n",
              "              style=\"display:none;\">\n",
              "        \n",
              "  <svg xmlns=\"http://www.w3.org/2000/svg\" height=\"24px\"viewBox=\"0 0 24 24\"\n",
              "       width=\"24px\">\n",
              "    <path d=\"M0 0h24v24H0V0z\" fill=\"none\"/>\n",
              "    <path d=\"M18.56 5.44l.94 2.06.94-2.06 2.06-.94-2.06-.94-.94-2.06-.94 2.06-2.06.94zm-11 1L8.5 8.5l.94-2.06 2.06-.94-2.06-.94L8.5 2.5l-.94 2.06-2.06.94zm10 10l.94 2.06.94-2.06 2.06-.94-2.06-.94-.94-2.06-.94 2.06-2.06.94z\"/><path d=\"M17.41 7.96l-1.37-1.37c-.4-.4-.92-.59-1.43-.59-.52 0-1.04.2-1.43.59L10.3 9.45l-7.72 7.72c-.78.78-.78 2.05 0 2.83L4 21.41c.39.39.9.59 1.41.59.51 0 1.02-.2 1.41-.59l7.78-7.78 2.81-2.81c.8-.78.8-2.07 0-2.86zM5.41 20L4 18.59l7.72-7.72 1.47 1.35L5.41 20z\"/>\n",
              "  </svg>\n",
              "      </button>\n",
              "      \n",
              "  <style>\n",
              "    .colab-df-container {\n",
              "      display:flex;\n",
              "      flex-wrap:wrap;\n",
              "      gap: 12px;\n",
              "    }\n",
              "\n",
              "    .colab-df-convert {\n",
              "      background-color: #E8F0FE;\n",
              "      border: none;\n",
              "      border-radius: 50%;\n",
              "      cursor: pointer;\n",
              "      display: none;\n",
              "      fill: #1967D2;\n",
              "      height: 32px;\n",
              "      padding: 0 0 0 0;\n",
              "      width: 32px;\n",
              "    }\n",
              "\n",
              "    .colab-df-convert:hover {\n",
              "      background-color: #E2EBFA;\n",
              "      box-shadow: 0px 1px 2px rgba(60, 64, 67, 0.3), 0px 1px 3px 1px rgba(60, 64, 67, 0.15);\n",
              "      fill: #174EA6;\n",
              "    }\n",
              "\n",
              "    [theme=dark] .colab-df-convert {\n",
              "      background-color: #3B4455;\n",
              "      fill: #D2E3FC;\n",
              "    }\n",
              "\n",
              "    [theme=dark] .colab-df-convert:hover {\n",
              "      background-color: #434B5C;\n",
              "      box-shadow: 0px 1px 3px 1px rgba(0, 0, 0, 0.15);\n",
              "      filter: drop-shadow(0px 1px 2px rgba(0, 0, 0, 0.3));\n",
              "      fill: #FFFFFF;\n",
              "    }\n",
              "  </style>\n",
              "\n",
              "      <script>\n",
              "        const buttonEl =\n",
              "          document.querySelector('#df-a8318c8e-7cb3-469f-b142-5c60a0a967b0 button.colab-df-convert');\n",
              "        buttonEl.style.display =\n",
              "          google.colab.kernel.accessAllowed ? 'block' : 'none';\n",
              "\n",
              "        async function convertToInteractive(key) {\n",
              "          const element = document.querySelector('#df-a8318c8e-7cb3-469f-b142-5c60a0a967b0');\n",
              "          const dataTable =\n",
              "            await google.colab.kernel.invokeFunction('convertToInteractive',\n",
              "                                                     [key], {});\n",
              "          if (!dataTable) return;\n",
              "\n",
              "          const docLinkHtml = 'Like what you see? Visit the ' +\n",
              "            '<a target=\"_blank\" href=https://colab.research.google.com/notebooks/data_table.ipynb>data table notebook</a>'\n",
              "            + ' to learn more about interactive tables.';\n",
              "          element.innerHTML = '';\n",
              "          dataTable['output_type'] = 'display_data';\n",
              "          await google.colab.output.renderOutput(dataTable, element);\n",
              "          const docLink = document.createElement('div');\n",
              "          docLink.innerHTML = docLinkHtml;\n",
              "          element.appendChild(docLink);\n",
              "        }\n",
              "      </script>\n",
              "    </div>\n",
              "  </div>\n",
              "  "
            ]
          },
          "metadata": {},
          "execution_count": 52
        }
      ],
      "source": [
        "data[['workclass', 'workclass_buckets',  'wcb_govt', 'wcb_self', 'wcb_pvt', 'wcb_other']].head(10)"
      ]
    },
    {
      "cell_type": "markdown",
      "metadata": {
        "id": "w5hSf4Rii204"
      },
      "source": [
        "**The same process would need to be performed to include ethnicity.  A good exercise for beginners would be to go through the process of one hot encoding ethnicity and adding it to the model.**"
      ]
    },
    {
      "cell_type": "markdown",
      "metadata": {
        "id": "LQy7NTCzi205"
      },
      "source": [
        "**Now education_num will be examined.  There is also an education field which is categorical.  However, if the education_num values have numerical meaning, this would likely be a more powerful predictor.  A quick check will reveal if larger values of education_num are indicative of higher levels of education.**"
      ]
    },
    {
      "cell_type": "code",
      "execution_count": 53,
      "metadata": {
        "id": "P377Hc1mi205",
        "outputId": "ee0cce04-d767-4a25-f7ae-487c33b0f727",
        "colab": {
          "base_uri": "https://localhost:8080/",
          "height": 565
        }
      },
      "outputs": [
        {
          "output_type": "execute_result",
          "data": {
            "text/plain": [
              "Empty DataFrame\n",
              "Columns: []\n",
              "Index: [(1,  Preschool), (2,  1st-4th), (3,  5th-6th), (4,  7th-8th), (5,  9th), (6,  10th), (7,  11th), (8,  12th), (9,  HS-grad), (10,  Some-college), (11,  Assoc-voc), (12,  Assoc-acdm), (13,  Bachelors), (14,  Masters), (15,  Prof-school), (16,  Doctorate)]"
            ],
            "text/html": [
              "\n",
              "  <div id=\"df-f8a84b95-54e6-484d-9a63-064a696a60e1\">\n",
              "    <div class=\"colab-df-container\">\n",
              "      <div>\n",
              "<style scoped>\n",
              "    .dataframe tbody tr th:only-of-type {\n",
              "        vertical-align: middle;\n",
              "    }\n",
              "\n",
              "    .dataframe tbody tr th {\n",
              "        vertical-align: top;\n",
              "    }\n",
              "\n",
              "    .dataframe thead th {\n",
              "        text-align: right;\n",
              "    }\n",
              "</style>\n",
              "<table border=\"1\" class=\"dataframe\">\n",
              "  <thead>\n",
              "    <tr style=\"text-align: right;\">\n",
              "      <th></th>\n",
              "      <th></th>\n",
              "    </tr>\n",
              "    <tr>\n",
              "      <th>education_num</th>\n",
              "      <th>education</th>\n",
              "    </tr>\n",
              "  </thead>\n",
              "  <tbody>\n",
              "    <tr>\n",
              "      <th>1</th>\n",
              "      <th>Preschool</th>\n",
              "    </tr>\n",
              "    <tr>\n",
              "      <th>2</th>\n",
              "      <th>1st-4th</th>\n",
              "    </tr>\n",
              "    <tr>\n",
              "      <th>3</th>\n",
              "      <th>5th-6th</th>\n",
              "    </tr>\n",
              "    <tr>\n",
              "      <th>4</th>\n",
              "      <th>7th-8th</th>\n",
              "    </tr>\n",
              "    <tr>\n",
              "      <th>5</th>\n",
              "      <th>9th</th>\n",
              "    </tr>\n",
              "    <tr>\n",
              "      <th>6</th>\n",
              "      <th>10th</th>\n",
              "    </tr>\n",
              "    <tr>\n",
              "      <th>7</th>\n",
              "      <th>11th</th>\n",
              "    </tr>\n",
              "    <tr>\n",
              "      <th>8</th>\n",
              "      <th>12th</th>\n",
              "    </tr>\n",
              "    <tr>\n",
              "      <th>9</th>\n",
              "      <th>HS-grad</th>\n",
              "    </tr>\n",
              "    <tr>\n",
              "      <th>10</th>\n",
              "      <th>Some-college</th>\n",
              "    </tr>\n",
              "    <tr>\n",
              "      <th>11</th>\n",
              "      <th>Assoc-voc</th>\n",
              "    </tr>\n",
              "    <tr>\n",
              "      <th>12</th>\n",
              "      <th>Assoc-acdm</th>\n",
              "    </tr>\n",
              "    <tr>\n",
              "      <th>13</th>\n",
              "      <th>Bachelors</th>\n",
              "    </tr>\n",
              "    <tr>\n",
              "      <th>14</th>\n",
              "      <th>Masters</th>\n",
              "    </tr>\n",
              "    <tr>\n",
              "      <th>15</th>\n",
              "      <th>Prof-school</th>\n",
              "    </tr>\n",
              "    <tr>\n",
              "      <th>16</th>\n",
              "      <th>Doctorate</th>\n",
              "    </tr>\n",
              "  </tbody>\n",
              "</table>\n",
              "</div>\n",
              "      <button class=\"colab-df-convert\" onclick=\"convertToInteractive('df-f8a84b95-54e6-484d-9a63-064a696a60e1')\"\n",
              "              title=\"Convert this dataframe to an interactive table.\"\n",
              "              style=\"display:none;\">\n",
              "        \n",
              "  <svg xmlns=\"http://www.w3.org/2000/svg\" height=\"24px\"viewBox=\"0 0 24 24\"\n",
              "       width=\"24px\">\n",
              "    <path d=\"M0 0h24v24H0V0z\" fill=\"none\"/>\n",
              "    <path d=\"M18.56 5.44l.94 2.06.94-2.06 2.06-.94-2.06-.94-.94-2.06-.94 2.06-2.06.94zm-11 1L8.5 8.5l.94-2.06 2.06-.94-2.06-.94L8.5 2.5l-.94 2.06-2.06.94zm10 10l.94 2.06.94-2.06 2.06-.94-2.06-.94-.94-2.06-.94 2.06-2.06.94z\"/><path d=\"M17.41 7.96l-1.37-1.37c-.4-.4-.92-.59-1.43-.59-.52 0-1.04.2-1.43.59L10.3 9.45l-7.72 7.72c-.78.78-.78 2.05 0 2.83L4 21.41c.39.39.9.59 1.41.59.51 0 1.02-.2 1.41-.59l7.78-7.78 2.81-2.81c.8-.78.8-2.07 0-2.86zM5.41 20L4 18.59l7.72-7.72 1.47 1.35L5.41 20z\"/>\n",
              "  </svg>\n",
              "      </button>\n",
              "      \n",
              "  <style>\n",
              "    .colab-df-container {\n",
              "      display:flex;\n",
              "      flex-wrap:wrap;\n",
              "      gap: 12px;\n",
              "    }\n",
              "\n",
              "    .colab-df-convert {\n",
              "      background-color: #E8F0FE;\n",
              "      border: none;\n",
              "      border-radius: 50%;\n",
              "      cursor: pointer;\n",
              "      display: none;\n",
              "      fill: #1967D2;\n",
              "      height: 32px;\n",
              "      padding: 0 0 0 0;\n",
              "      width: 32px;\n",
              "    }\n",
              "\n",
              "    .colab-df-convert:hover {\n",
              "      background-color: #E2EBFA;\n",
              "      box-shadow: 0px 1px 2px rgba(60, 64, 67, 0.3), 0px 1px 3px 1px rgba(60, 64, 67, 0.15);\n",
              "      fill: #174EA6;\n",
              "    }\n",
              "\n",
              "    [theme=dark] .colab-df-convert {\n",
              "      background-color: #3B4455;\n",
              "      fill: #D2E3FC;\n",
              "    }\n",
              "\n",
              "    [theme=dark] .colab-df-convert:hover {\n",
              "      background-color: #434B5C;\n",
              "      box-shadow: 0px 1px 3px 1px rgba(0, 0, 0, 0.15);\n",
              "      filter: drop-shadow(0px 1px 2px rgba(0, 0, 0, 0.3));\n",
              "      fill: #FFFFFF;\n",
              "    }\n",
              "  </style>\n",
              "\n",
              "      <script>\n",
              "        const buttonEl =\n",
              "          document.querySelector('#df-f8a84b95-54e6-484d-9a63-064a696a60e1 button.colab-df-convert');\n",
              "        buttonEl.style.display =\n",
              "          google.colab.kernel.accessAllowed ? 'block' : 'none';\n",
              "\n",
              "        async function convertToInteractive(key) {\n",
              "          const element = document.querySelector('#df-f8a84b95-54e6-484d-9a63-064a696a60e1');\n",
              "          const dataTable =\n",
              "            await google.colab.kernel.invokeFunction('convertToInteractive',\n",
              "                                                     [key], {});\n",
              "          if (!dataTable) return;\n",
              "\n",
              "          const docLinkHtml = 'Like what you see? Visit the ' +\n",
              "            '<a target=\"_blank\" href=https://colab.research.google.com/notebooks/data_table.ipynb>data table notebook</a>'\n",
              "            + ' to learn more about interactive tables.';\n",
              "          element.innerHTML = '';\n",
              "          dataTable['output_type'] = 'display_data';\n",
              "          await google.colab.output.renderOutput(dataTable, element);\n",
              "          const docLink = document.createElement('div');\n",
              "          docLink.innerHTML = docLinkHtml;\n",
              "          element.appendChild(docLink);\n",
              "        }\n",
              "      </script>\n",
              "    </div>\n",
              "  </div>\n",
              "  "
            ]
          },
          "metadata": {},
          "execution_count": 53
        }
      ],
      "source": [
        "\n",
        "data[['education_num', 'education']].groupby(['education_num', 'education']).count()"
      ]
    },
    {
      "cell_type": "markdown",
      "metadata": {
        "id": "iNBf2SQhi205"
      },
      "source": [
        "**This result yields two important findings.  Firstly, education_num has a one to one mapping with education.  This was expected.  But as with all things data, it was still worth checking.  Also, it is pretty clear that the education_num values become larger as education level increases.  This means that the numerical values will be useful for modeling.**"
      ]
    },
    {
      "cell_type": "markdown",
      "metadata": {
        "id": "GAFU8Uvbi206"
      },
      "source": [
        "**At this point feature engineering will stop and data will be split into a train and test set.  For this model, a 75%/25% split was chosen.  This is somewhat arbitrary for this application.  For other applications, there can be practical reasons why the data may need to be split differently.  In the absence of those types of constraints, most people will use something between 60%/40% and 80%/20%.  It is also worth noting that there is certainly opportunity to build more sophisticated features with this data set.  The feature engineering step is an opportunity to be creative and try new things.  In this case, some basic features were built for demonstration purposes.**"
      ]
    },
    {
      "cell_type": "code",
      "execution_count": 54,
      "metadata": {
        "id": "tGtozEMii206"
      },
      "outputs": [],
      "source": [
        "train, test = train_test_split(data, test_size = 0.25)"
      ]
    },
    {
      "cell_type": "code",
      "execution_count": 55,
      "metadata": {
        "id": "OQ2TVWq5i206",
        "outputId": "b14c6b66-d792-4d8c-ceb0-11ccc3411e49",
        "colab": {
          "base_uri": "https://localhost:8080/",
          "height": 386
        }
      },
      "outputs": [
        {
          "output_type": "execute_result",
          "data": {
            "text/plain": [
              "       age         workclass  fnlwgt      education  education_num  \\\n",
              "28115   30         State-gov  343789   Some-college             10   \n",
              "27155   30           Private  247156        HS-grad              9   \n",
              "2916    38           Private   37028   Some-college             10   \n",
              "18642   42           Private  185413      Bachelors             13   \n",
              "2461    26  Self-emp-not-inc  284343     Assoc-acdm             12   \n",
              "\n",
              "            marital_status         occupation    relationship ethnicity  \\\n",
              "28115   Married-civ-spouse       Adm-clerical         Husband     White   \n",
              "27155        Never-married   Transport-moving       Own-child     Black   \n",
              "2916              Divorced              Sales       Unmarried     White   \n",
              "18642   Married-civ-spouse    Exec-managerial         Husband     White   \n",
              "2461         Never-married       Craft-repair   Not-in-family     White   \n",
              "\n",
              "        gender  ...  hours_per_week  country_of_origin  income target  \\\n",
              "28115     Male  ...              40      United-States    >50K    1.0   \n",
              "27155     Male  ...              40      United-States   <=50K    0.0   \n",
              "2916    Female  ...              38      United-States   <=50K    0.0   \n",
              "18642     Male  ...              40      United-States   <=50K    0.0   \n",
              "2461      Male  ...              40      United-States   <=50K    0.0   \n",
              "\n",
              "      gender_num  workclass_buckets  wcb_govt wcb_other  wcb_pvt  wcb_self  \n",
              "28115        0.0               govt         1         0        0         0  \n",
              "27155        0.0                pvt         0         0        1         0  \n",
              "2916         1.0                pvt         0         0        1         0  \n",
              "18642        0.0                pvt         0         0        1         0  \n",
              "2461         0.0               self         0         0        0         1  \n",
              "\n",
              "[5 rows x 22 columns]"
            ],
            "text/html": [
              "\n",
              "  <div id=\"df-efff0b4c-5882-40f4-adb5-2e78ec492891\">\n",
              "    <div class=\"colab-df-container\">\n",
              "      <div>\n",
              "<style scoped>\n",
              "    .dataframe tbody tr th:only-of-type {\n",
              "        vertical-align: middle;\n",
              "    }\n",
              "\n",
              "    .dataframe tbody tr th {\n",
              "        vertical-align: top;\n",
              "    }\n",
              "\n",
              "    .dataframe thead th {\n",
              "        text-align: right;\n",
              "    }\n",
              "</style>\n",
              "<table border=\"1\" class=\"dataframe\">\n",
              "  <thead>\n",
              "    <tr style=\"text-align: right;\">\n",
              "      <th></th>\n",
              "      <th>age</th>\n",
              "      <th>workclass</th>\n",
              "      <th>fnlwgt</th>\n",
              "      <th>education</th>\n",
              "      <th>education_num</th>\n",
              "      <th>marital_status</th>\n",
              "      <th>occupation</th>\n",
              "      <th>relationship</th>\n",
              "      <th>ethnicity</th>\n",
              "      <th>gender</th>\n",
              "      <th>...</th>\n",
              "      <th>hours_per_week</th>\n",
              "      <th>country_of_origin</th>\n",
              "      <th>income</th>\n",
              "      <th>target</th>\n",
              "      <th>gender_num</th>\n",
              "      <th>workclass_buckets</th>\n",
              "      <th>wcb_govt</th>\n",
              "      <th>wcb_other</th>\n",
              "      <th>wcb_pvt</th>\n",
              "      <th>wcb_self</th>\n",
              "    </tr>\n",
              "  </thead>\n",
              "  <tbody>\n",
              "    <tr>\n",
              "      <th>28115</th>\n",
              "      <td>30</td>\n",
              "      <td>State-gov</td>\n",
              "      <td>343789</td>\n",
              "      <td>Some-college</td>\n",
              "      <td>10</td>\n",
              "      <td>Married-civ-spouse</td>\n",
              "      <td>Adm-clerical</td>\n",
              "      <td>Husband</td>\n",
              "      <td>White</td>\n",
              "      <td>Male</td>\n",
              "      <td>...</td>\n",
              "      <td>40</td>\n",
              "      <td>United-States</td>\n",
              "      <td>&gt;50K</td>\n",
              "      <td>1.0</td>\n",
              "      <td>0.0</td>\n",
              "      <td>govt</td>\n",
              "      <td>1</td>\n",
              "      <td>0</td>\n",
              "      <td>0</td>\n",
              "      <td>0</td>\n",
              "    </tr>\n",
              "    <tr>\n",
              "      <th>27155</th>\n",
              "      <td>30</td>\n",
              "      <td>Private</td>\n",
              "      <td>247156</td>\n",
              "      <td>HS-grad</td>\n",
              "      <td>9</td>\n",
              "      <td>Never-married</td>\n",
              "      <td>Transport-moving</td>\n",
              "      <td>Own-child</td>\n",
              "      <td>Black</td>\n",
              "      <td>Male</td>\n",
              "      <td>...</td>\n",
              "      <td>40</td>\n",
              "      <td>United-States</td>\n",
              "      <td>&lt;=50K</td>\n",
              "      <td>0.0</td>\n",
              "      <td>0.0</td>\n",
              "      <td>pvt</td>\n",
              "      <td>0</td>\n",
              "      <td>0</td>\n",
              "      <td>1</td>\n",
              "      <td>0</td>\n",
              "    </tr>\n",
              "    <tr>\n",
              "      <th>2916</th>\n",
              "      <td>38</td>\n",
              "      <td>Private</td>\n",
              "      <td>37028</td>\n",
              "      <td>Some-college</td>\n",
              "      <td>10</td>\n",
              "      <td>Divorced</td>\n",
              "      <td>Sales</td>\n",
              "      <td>Unmarried</td>\n",
              "      <td>White</td>\n",
              "      <td>Female</td>\n",
              "      <td>...</td>\n",
              "      <td>38</td>\n",
              "      <td>United-States</td>\n",
              "      <td>&lt;=50K</td>\n",
              "      <td>0.0</td>\n",
              "      <td>1.0</td>\n",
              "      <td>pvt</td>\n",
              "      <td>0</td>\n",
              "      <td>0</td>\n",
              "      <td>1</td>\n",
              "      <td>0</td>\n",
              "    </tr>\n",
              "    <tr>\n",
              "      <th>18642</th>\n",
              "      <td>42</td>\n",
              "      <td>Private</td>\n",
              "      <td>185413</td>\n",
              "      <td>Bachelors</td>\n",
              "      <td>13</td>\n",
              "      <td>Married-civ-spouse</td>\n",
              "      <td>Exec-managerial</td>\n",
              "      <td>Husband</td>\n",
              "      <td>White</td>\n",
              "      <td>Male</td>\n",
              "      <td>...</td>\n",
              "      <td>40</td>\n",
              "      <td>United-States</td>\n",
              "      <td>&lt;=50K</td>\n",
              "      <td>0.0</td>\n",
              "      <td>0.0</td>\n",
              "      <td>pvt</td>\n",
              "      <td>0</td>\n",
              "      <td>0</td>\n",
              "      <td>1</td>\n",
              "      <td>0</td>\n",
              "    </tr>\n",
              "    <tr>\n",
              "      <th>2461</th>\n",
              "      <td>26</td>\n",
              "      <td>Self-emp-not-inc</td>\n",
              "      <td>284343</td>\n",
              "      <td>Assoc-acdm</td>\n",
              "      <td>12</td>\n",
              "      <td>Never-married</td>\n",
              "      <td>Craft-repair</td>\n",
              "      <td>Not-in-family</td>\n",
              "      <td>White</td>\n",
              "      <td>Male</td>\n",
              "      <td>...</td>\n",
              "      <td>40</td>\n",
              "      <td>United-States</td>\n",
              "      <td>&lt;=50K</td>\n",
              "      <td>0.0</td>\n",
              "      <td>0.0</td>\n",
              "      <td>self</td>\n",
              "      <td>0</td>\n",
              "      <td>0</td>\n",
              "      <td>0</td>\n",
              "      <td>1</td>\n",
              "    </tr>\n",
              "  </tbody>\n",
              "</table>\n",
              "<p>5 rows × 22 columns</p>\n",
              "</div>\n",
              "      <button class=\"colab-df-convert\" onclick=\"convertToInteractive('df-efff0b4c-5882-40f4-adb5-2e78ec492891')\"\n",
              "              title=\"Convert this dataframe to an interactive table.\"\n",
              "              style=\"display:none;\">\n",
              "        \n",
              "  <svg xmlns=\"http://www.w3.org/2000/svg\" height=\"24px\"viewBox=\"0 0 24 24\"\n",
              "       width=\"24px\">\n",
              "    <path d=\"M0 0h24v24H0V0z\" fill=\"none\"/>\n",
              "    <path d=\"M18.56 5.44l.94 2.06.94-2.06 2.06-.94-2.06-.94-.94-2.06-.94 2.06-2.06.94zm-11 1L8.5 8.5l.94-2.06 2.06-.94-2.06-.94L8.5 2.5l-.94 2.06-2.06.94zm10 10l.94 2.06.94-2.06 2.06-.94-2.06-.94-.94-2.06-.94 2.06-2.06.94z\"/><path d=\"M17.41 7.96l-1.37-1.37c-.4-.4-.92-.59-1.43-.59-.52 0-1.04.2-1.43.59L10.3 9.45l-7.72 7.72c-.78.78-.78 2.05 0 2.83L4 21.41c.39.39.9.59 1.41.59.51 0 1.02-.2 1.41-.59l7.78-7.78 2.81-2.81c.8-.78.8-2.07 0-2.86zM5.41 20L4 18.59l7.72-7.72 1.47 1.35L5.41 20z\"/>\n",
              "  </svg>\n",
              "      </button>\n",
              "      \n",
              "  <style>\n",
              "    .colab-df-container {\n",
              "      display:flex;\n",
              "      flex-wrap:wrap;\n",
              "      gap: 12px;\n",
              "    }\n",
              "\n",
              "    .colab-df-convert {\n",
              "      background-color: #E8F0FE;\n",
              "      border: none;\n",
              "      border-radius: 50%;\n",
              "      cursor: pointer;\n",
              "      display: none;\n",
              "      fill: #1967D2;\n",
              "      height: 32px;\n",
              "      padding: 0 0 0 0;\n",
              "      width: 32px;\n",
              "    }\n",
              "\n",
              "    .colab-df-convert:hover {\n",
              "      background-color: #E2EBFA;\n",
              "      box-shadow: 0px 1px 2px rgba(60, 64, 67, 0.3), 0px 1px 3px 1px rgba(60, 64, 67, 0.15);\n",
              "      fill: #174EA6;\n",
              "    }\n",
              "\n",
              "    [theme=dark] .colab-df-convert {\n",
              "      background-color: #3B4455;\n",
              "      fill: #D2E3FC;\n",
              "    }\n",
              "\n",
              "    [theme=dark] .colab-df-convert:hover {\n",
              "      background-color: #434B5C;\n",
              "      box-shadow: 0px 1px 3px 1px rgba(0, 0, 0, 0.15);\n",
              "      filter: drop-shadow(0px 1px 2px rgba(0, 0, 0, 0.3));\n",
              "      fill: #FFFFFF;\n",
              "    }\n",
              "  </style>\n",
              "\n",
              "      <script>\n",
              "        const buttonEl =\n",
              "          document.querySelector('#df-efff0b4c-5882-40f4-adb5-2e78ec492891 button.colab-df-convert');\n",
              "        buttonEl.style.display =\n",
              "          google.colab.kernel.accessAllowed ? 'block' : 'none';\n",
              "\n",
              "        async function convertToInteractive(key) {\n",
              "          const element = document.querySelector('#df-efff0b4c-5882-40f4-adb5-2e78ec492891');\n",
              "          const dataTable =\n",
              "            await google.colab.kernel.invokeFunction('convertToInteractive',\n",
              "                                                     [key], {});\n",
              "          if (!dataTable) return;\n",
              "\n",
              "          const docLinkHtml = 'Like what you see? Visit the ' +\n",
              "            '<a target=\"_blank\" href=https://colab.research.google.com/notebooks/data_table.ipynb>data table notebook</a>'\n",
              "            + ' to learn more about interactive tables.';\n",
              "          element.innerHTML = '';\n",
              "          dataTable['output_type'] = 'display_data';\n",
              "          await google.colab.output.renderOutput(dataTable, element);\n",
              "          const docLink = document.createElement('div');\n",
              "          docLink.innerHTML = docLinkHtml;\n",
              "          element.appendChild(docLink);\n",
              "        }\n",
              "      </script>\n",
              "    </div>\n",
              "  </div>\n",
              "  "
            ]
          },
          "metadata": {},
          "execution_count": 55
        }
      ],
      "source": [
        "train.head()"
      ]
    },
    {
      "cell_type": "code",
      "execution_count": 56,
      "metadata": {
        "scrolled": true,
        "id": "g2PiFVkyi207",
        "outputId": "8faefc99-74a9-4f9c-db3d-bd1ff7e88f00",
        "colab": {
          "base_uri": "https://localhost:8080/",
          "height": 386
        }
      },
      "outputs": [
        {
          "output_type": "execute_result",
          "data": {
            "text/plain": [
              "       age  workclass  fnlwgt      education  education_num  \\\n",
              "17667   18    Private  205004   Some-college             10   \n",
              "29202   33    Private  285131        HS-grad              9   \n",
              "30440   46  State-gov  192323        HS-grad              9   \n",
              "24734   33    Private   55291        Masters             14   \n",
              "12325   45    Private  187226     Assoc-acdm             12   \n",
              "\n",
              "            marital_status          occupation    relationship ethnicity  \\\n",
              "17667        Never-married       Other-service       Own-child     White   \n",
              "29202   Married-civ-spouse        Craft-repair         Husband     White   \n",
              "30440             Divorced     Exec-managerial   Not-in-family     White   \n",
              "24734   Married-civ-spouse     Exec-managerial         Husband     White   \n",
              "12325   Married-civ-spouse   Handlers-cleaners         Husband     White   \n",
              "\n",
              "      gender  ...  hours_per_week  country_of_origin  income target  \\\n",
              "17667   Male  ...              26      United-States   <=50K    0.0   \n",
              "29202   Male  ...              40      United-States   <=50K    0.0   \n",
              "30440   Male  ...              40      United-States   <=50K    0.0   \n",
              "24734   Male  ...              40      United-States    >50K    1.0   \n",
              "12325   Male  ...              40      United-States   <=50K    0.0   \n",
              "\n",
              "      gender_num  workclass_buckets  wcb_govt wcb_other  wcb_pvt  wcb_self  \n",
              "17667        0.0                pvt         0         0        1         0  \n",
              "29202        0.0                pvt         0         0        1         0  \n",
              "30440        0.0               govt         1         0        0         0  \n",
              "24734        0.0                pvt         0         0        1         0  \n",
              "12325        0.0                pvt         0         0        1         0  \n",
              "\n",
              "[5 rows x 22 columns]"
            ],
            "text/html": [
              "\n",
              "  <div id=\"df-d1a07eb8-09b2-4236-9487-730366c44a4c\">\n",
              "    <div class=\"colab-df-container\">\n",
              "      <div>\n",
              "<style scoped>\n",
              "    .dataframe tbody tr th:only-of-type {\n",
              "        vertical-align: middle;\n",
              "    }\n",
              "\n",
              "    .dataframe tbody tr th {\n",
              "        vertical-align: top;\n",
              "    }\n",
              "\n",
              "    .dataframe thead th {\n",
              "        text-align: right;\n",
              "    }\n",
              "</style>\n",
              "<table border=\"1\" class=\"dataframe\">\n",
              "  <thead>\n",
              "    <tr style=\"text-align: right;\">\n",
              "      <th></th>\n",
              "      <th>age</th>\n",
              "      <th>workclass</th>\n",
              "      <th>fnlwgt</th>\n",
              "      <th>education</th>\n",
              "      <th>education_num</th>\n",
              "      <th>marital_status</th>\n",
              "      <th>occupation</th>\n",
              "      <th>relationship</th>\n",
              "      <th>ethnicity</th>\n",
              "      <th>gender</th>\n",
              "      <th>...</th>\n",
              "      <th>hours_per_week</th>\n",
              "      <th>country_of_origin</th>\n",
              "      <th>income</th>\n",
              "      <th>target</th>\n",
              "      <th>gender_num</th>\n",
              "      <th>workclass_buckets</th>\n",
              "      <th>wcb_govt</th>\n",
              "      <th>wcb_other</th>\n",
              "      <th>wcb_pvt</th>\n",
              "      <th>wcb_self</th>\n",
              "    </tr>\n",
              "  </thead>\n",
              "  <tbody>\n",
              "    <tr>\n",
              "      <th>17667</th>\n",
              "      <td>18</td>\n",
              "      <td>Private</td>\n",
              "      <td>205004</td>\n",
              "      <td>Some-college</td>\n",
              "      <td>10</td>\n",
              "      <td>Never-married</td>\n",
              "      <td>Other-service</td>\n",
              "      <td>Own-child</td>\n",
              "      <td>White</td>\n",
              "      <td>Male</td>\n",
              "      <td>...</td>\n",
              "      <td>26</td>\n",
              "      <td>United-States</td>\n",
              "      <td>&lt;=50K</td>\n",
              "      <td>0.0</td>\n",
              "      <td>0.0</td>\n",
              "      <td>pvt</td>\n",
              "      <td>0</td>\n",
              "      <td>0</td>\n",
              "      <td>1</td>\n",
              "      <td>0</td>\n",
              "    </tr>\n",
              "    <tr>\n",
              "      <th>29202</th>\n",
              "      <td>33</td>\n",
              "      <td>Private</td>\n",
              "      <td>285131</td>\n",
              "      <td>HS-grad</td>\n",
              "      <td>9</td>\n",
              "      <td>Married-civ-spouse</td>\n",
              "      <td>Craft-repair</td>\n",
              "      <td>Husband</td>\n",
              "      <td>White</td>\n",
              "      <td>Male</td>\n",
              "      <td>...</td>\n",
              "      <td>40</td>\n",
              "      <td>United-States</td>\n",
              "      <td>&lt;=50K</td>\n",
              "      <td>0.0</td>\n",
              "      <td>0.0</td>\n",
              "      <td>pvt</td>\n",
              "      <td>0</td>\n",
              "      <td>0</td>\n",
              "      <td>1</td>\n",
              "      <td>0</td>\n",
              "    </tr>\n",
              "    <tr>\n",
              "      <th>30440</th>\n",
              "      <td>46</td>\n",
              "      <td>State-gov</td>\n",
              "      <td>192323</td>\n",
              "      <td>HS-grad</td>\n",
              "      <td>9</td>\n",
              "      <td>Divorced</td>\n",
              "      <td>Exec-managerial</td>\n",
              "      <td>Not-in-family</td>\n",
              "      <td>White</td>\n",
              "      <td>Male</td>\n",
              "      <td>...</td>\n",
              "      <td>40</td>\n",
              "      <td>United-States</td>\n",
              "      <td>&lt;=50K</td>\n",
              "      <td>0.0</td>\n",
              "      <td>0.0</td>\n",
              "      <td>govt</td>\n",
              "      <td>1</td>\n",
              "      <td>0</td>\n",
              "      <td>0</td>\n",
              "      <td>0</td>\n",
              "    </tr>\n",
              "    <tr>\n",
              "      <th>24734</th>\n",
              "      <td>33</td>\n",
              "      <td>Private</td>\n",
              "      <td>55291</td>\n",
              "      <td>Masters</td>\n",
              "      <td>14</td>\n",
              "      <td>Married-civ-spouse</td>\n",
              "      <td>Exec-managerial</td>\n",
              "      <td>Husband</td>\n",
              "      <td>White</td>\n",
              "      <td>Male</td>\n",
              "      <td>...</td>\n",
              "      <td>40</td>\n",
              "      <td>United-States</td>\n",
              "      <td>&gt;50K</td>\n",
              "      <td>1.0</td>\n",
              "      <td>0.0</td>\n",
              "      <td>pvt</td>\n",
              "      <td>0</td>\n",
              "      <td>0</td>\n",
              "      <td>1</td>\n",
              "      <td>0</td>\n",
              "    </tr>\n",
              "    <tr>\n",
              "      <th>12325</th>\n",
              "      <td>45</td>\n",
              "      <td>Private</td>\n",
              "      <td>187226</td>\n",
              "      <td>Assoc-acdm</td>\n",
              "      <td>12</td>\n",
              "      <td>Married-civ-spouse</td>\n",
              "      <td>Handlers-cleaners</td>\n",
              "      <td>Husband</td>\n",
              "      <td>White</td>\n",
              "      <td>Male</td>\n",
              "      <td>...</td>\n",
              "      <td>40</td>\n",
              "      <td>United-States</td>\n",
              "      <td>&lt;=50K</td>\n",
              "      <td>0.0</td>\n",
              "      <td>0.0</td>\n",
              "      <td>pvt</td>\n",
              "      <td>0</td>\n",
              "      <td>0</td>\n",
              "      <td>1</td>\n",
              "      <td>0</td>\n",
              "    </tr>\n",
              "  </tbody>\n",
              "</table>\n",
              "<p>5 rows × 22 columns</p>\n",
              "</div>\n",
              "      <button class=\"colab-df-convert\" onclick=\"convertToInteractive('df-d1a07eb8-09b2-4236-9487-730366c44a4c')\"\n",
              "              title=\"Convert this dataframe to an interactive table.\"\n",
              "              style=\"display:none;\">\n",
              "        \n",
              "  <svg xmlns=\"http://www.w3.org/2000/svg\" height=\"24px\"viewBox=\"0 0 24 24\"\n",
              "       width=\"24px\">\n",
              "    <path d=\"M0 0h24v24H0V0z\" fill=\"none\"/>\n",
              "    <path d=\"M18.56 5.44l.94 2.06.94-2.06 2.06-.94-2.06-.94-.94-2.06-.94 2.06-2.06.94zm-11 1L8.5 8.5l.94-2.06 2.06-.94-2.06-.94L8.5 2.5l-.94 2.06-2.06.94zm10 10l.94 2.06.94-2.06 2.06-.94-2.06-.94-.94-2.06-.94 2.06-2.06.94z\"/><path d=\"M17.41 7.96l-1.37-1.37c-.4-.4-.92-.59-1.43-.59-.52 0-1.04.2-1.43.59L10.3 9.45l-7.72 7.72c-.78.78-.78 2.05 0 2.83L4 21.41c.39.39.9.59 1.41.59.51 0 1.02-.2 1.41-.59l7.78-7.78 2.81-2.81c.8-.78.8-2.07 0-2.86zM5.41 20L4 18.59l7.72-7.72 1.47 1.35L5.41 20z\"/>\n",
              "  </svg>\n",
              "      </button>\n",
              "      \n",
              "  <style>\n",
              "    .colab-df-container {\n",
              "      display:flex;\n",
              "      flex-wrap:wrap;\n",
              "      gap: 12px;\n",
              "    }\n",
              "\n",
              "    .colab-df-convert {\n",
              "      background-color: #E8F0FE;\n",
              "      border: none;\n",
              "      border-radius: 50%;\n",
              "      cursor: pointer;\n",
              "      display: none;\n",
              "      fill: #1967D2;\n",
              "      height: 32px;\n",
              "      padding: 0 0 0 0;\n",
              "      width: 32px;\n",
              "    }\n",
              "\n",
              "    .colab-df-convert:hover {\n",
              "      background-color: #E2EBFA;\n",
              "      box-shadow: 0px 1px 2px rgba(60, 64, 67, 0.3), 0px 1px 3px 1px rgba(60, 64, 67, 0.15);\n",
              "      fill: #174EA6;\n",
              "    }\n",
              "\n",
              "    [theme=dark] .colab-df-convert {\n",
              "      background-color: #3B4455;\n",
              "      fill: #D2E3FC;\n",
              "    }\n",
              "\n",
              "    [theme=dark] .colab-df-convert:hover {\n",
              "      background-color: #434B5C;\n",
              "      box-shadow: 0px 1px 3px 1px rgba(0, 0, 0, 0.15);\n",
              "      filter: drop-shadow(0px 1px 2px rgba(0, 0, 0, 0.3));\n",
              "      fill: #FFFFFF;\n",
              "    }\n",
              "  </style>\n",
              "\n",
              "      <script>\n",
              "        const buttonEl =\n",
              "          document.querySelector('#df-d1a07eb8-09b2-4236-9487-730366c44a4c button.colab-df-convert');\n",
              "        buttonEl.style.display =\n",
              "          google.colab.kernel.accessAllowed ? 'block' : 'none';\n",
              "\n",
              "        async function convertToInteractive(key) {\n",
              "          const element = document.querySelector('#df-d1a07eb8-09b2-4236-9487-730366c44a4c');\n",
              "          const dataTable =\n",
              "            await google.colab.kernel.invokeFunction('convertToInteractive',\n",
              "                                                     [key], {});\n",
              "          if (!dataTable) return;\n",
              "\n",
              "          const docLinkHtml = 'Like what you see? Visit the ' +\n",
              "            '<a target=\"_blank\" href=https://colab.research.google.com/notebooks/data_table.ipynb>data table notebook</a>'\n",
              "            + ' to learn more about interactive tables.';\n",
              "          element.innerHTML = '';\n",
              "          dataTable['output_type'] = 'display_data';\n",
              "          await google.colab.output.renderOutput(dataTable, element);\n",
              "          const docLink = document.createElement('div');\n",
              "          docLink.innerHTML = docLinkHtml;\n",
              "          element.appendChild(docLink);\n",
              "        }\n",
              "      </script>\n",
              "    </div>\n",
              "  </div>\n",
              "  "
            ]
          },
          "metadata": {},
          "execution_count": 56
        }
      ],
      "source": [
        "test.head()"
      ]
    },
    {
      "cell_type": "markdown",
      "metadata": {
        "id": "Qfm8DGt7i207"
      },
      "source": [
        "**A list of features is assembled to control the inputs to the model.  The list is used to subset down to only the columns that will be used as features.  Editing this list will alter which features are used as inputs to the model.  For now, the features previously examined/constructed will be used as well as a few other columns that seem like reasonable predictors.**"
      ]
    },
    {
      "cell_type": "code",
      "execution_count": 57,
      "metadata": {
        "id": "zjfyV7R7i207"
      },
      "outputs": [],
      "source": [
        "features = ['wcb_govt'\n",
        "            , 'wcb_self'\n",
        "            , 'wcb_pvt'\n",
        "            , 'wcb_other'\n",
        "            , 'education_num'\n",
        "            , 'age'\n",
        "            , 'gender_num'\n",
        "            , 'capital_gain'\n",
        "            , 'capital_loss'\n",
        "            , 'hours_per_week']\n"
      ]
    },
    {
      "cell_type": "markdown",
      "metadata": {
        "id": "1AW6kPRLi207"
      },
      "source": [
        "**Now the data will be split again.  The built in algorithm wants the features (X) and the target (y) in separate arrays.  Both the train and test data will be split in this way so they can be input into the function.**"
      ]
    },
    {
      "cell_type": "code",
      "execution_count": 58,
      "metadata": {
        "id": "Gj1z_nJAi208"
      },
      "outputs": [],
      "source": [
        "X_train = np.array(train[features])\n",
        "X_test = np.array(test[features])\n",
        "y_train = np.array(train['target'])\n",
        "y_test = np.array(test['target'])"
      ]
    },
    {
      "cell_type": "markdown",
      "metadata": {
        "id": "ZHAFxAMzi208"
      },
      "source": [
        "**A parameter grid will be set up to help tune the hyperparameters.  The numbers used are a reasonable starting point for this relatively small data set.  There are definitely more hyperparameters that could be added but these seem to make the most difference in terms of model performance.  That being said, as long as the settings are reasonable, small adjustments of these do not make much difference.  Feature engineering is far more important.  Anyway, an explanation of the hyperparameters chosen:**\n",
        "\n",
        "**n_estimators - This controls the number of separate trees that are built.  Remember, this model is basically just building a set of decision trees and taking a weighted average of their output.  If there are complex relationships to model, more trees may be necessary.  Also note that a model with more trees will generally demand a slower learning rate.  The bottom line is that if the model is underfit, more trees should be added.  If it is overfit, the number of trees should be decreased.**\n",
        "\n",
        "\n",
        "**learning_rate - This controls how quickly the cost function is optimized.  It is also referred to as shrinkage.  As stated above, the learning rate should decrease as model complexity increases.  Basic models can converge quickly (high learning rate) whereas complex models should be given time to learn relationships (low learning rate).  The bottom line here is that if the model is underfit, slow down (decrease) the learning rate.  If it is overfit, speed up (increase) the learning rate.**\n",
        "\n",
        "\n",
        "**max_depth - This controls the depth of each individual decision tree and therefore controls the level of interactions that can be modeled.  Unnecessarily deep trees can lead to overfitting, but a complex feature space may demand deeper trees.**\n",
        "\n",
        "**One strategy for tuning these is to start with a high range of values and large steps between values to cut down on the number of iterations.  After testing those values, the best iteration(s) can be determined and a tighter range with smaller steps can be tested for a more focused paramter space.**"
      ]
    },
    {
      "cell_type": "code",
      "execution_count": 59,
      "metadata": {
        "id": "p1skvEv5i209"
      },
      "outputs": [],
      "source": [
        "param_grid_gbm = {\n",
        "    'n_estimators': [20, 50, 100]\n",
        "    , 'learning_rate': [.01, .05, .1]\n",
        "    , 'max_depth': [2, 3, 4]\n",
        "}"
      ]
    },
    {
      "cell_type": "markdown",
      "metadata": {
        "id": "e8UlpVyai20_"
      },
      "source": [
        "**The next three commands define the model type, set up the grid search across the chosen hyperparameters, and train the model respectively.**"
      ]
    },
    {
      "cell_type": "code",
      "execution_count": 60,
      "metadata": {
        "id": "cdv5TSaSi21A",
        "outputId": "d3d7ea51-78b8-452b-c6e9-66910e179755",
        "colab": {
          "base_uri": "https://localhost:8080/"
        }
      },
      "outputs": [
        {
          "output_type": "execute_result",
          "data": {
            "text/plain": [
              "GridSearchCV(estimator=GradientBoostingClassifier(),\n",
              "             param_grid={'learning_rate': [0.01, 0.05, 0.1],\n",
              "                         'max_depth': [2, 3, 4],\n",
              "                         'n_estimators': [20, 50, 100]})"
            ]
          },
          "metadata": {},
          "execution_count": 60
        }
      ],
      "source": [
        "model = ensemble.GradientBoostingClassifier()\n",
        "gs_gbm = GridSearchCV(estimator = model\n",
        "                     , param_grid = param_grid_gbm)\n",
        "gs_gbm.fit(X_train, y_train)"
      ]
    },
    {
      "cell_type": "markdown",
      "metadata": {
        "id": "bZqNrELfi21A"
      },
      "source": [
        "**The code below will display the best parameterization for the training set.  Keep in mind that this may not necessarily be the best model.  If the algorithm has overfit on the training set, the model will not generalize well to the validation set.  Experience helps someone to get a \"feel\" for how this is going.  The only replacement for experience is meticulous attention to model performance on both train and test data sets.  The model should perform equally well on both sets.**"
      ]
    },
    {
      "cell_type": "code",
      "execution_count": 61,
      "metadata": {
        "id": "ne0LSqKJi21A",
        "outputId": "a9432483-82fa-4126-f58b-2bd66a4bb592",
        "colab": {
          "base_uri": "https://localhost:8080/"
        }
      },
      "outputs": [
        {
          "output_type": "stream",
          "name": "stdout",
          "text": [
            "{'learning_rate': 0.1, 'max_depth': 4, 'n_estimators': 100}\n"
          ]
        }
      ],
      "source": [
        "print(gs_gbm.best_params_)"
      ]
    },
    {
      "cell_type": "markdown",
      "metadata": {
        "id": "dxCmshjMi21B"
      },
      "source": [
        "**Now the best parameterization will be used to train a model.  The following two cells will show the matthews correlation coefficient for both the train and test data sets.**"
      ]
    },
    {
      "cell_type": "code",
      "execution_count": 62,
      "metadata": {
        "id": "9CY3njhEi21B",
        "outputId": "4d6e7c3d-04ea-4168-8d1a-863a0c1157ab",
        "colab": {
          "base_uri": "https://localhost:8080/"
        }
      },
      "outputs": [
        {
          "output_type": "execute_result",
          "data": {
            "text/plain": [
              "GradientBoostingClassifier(max_depth=4)"
            ]
          },
          "metadata": {},
          "execution_count": 62
        }
      ],
      "source": [
        "best_gbm = gs_gbm.best_estimator_\n",
        "best_gbm.fit(X_train, y_train)"
      ]
    },
    {
      "cell_type": "code",
      "execution_count": 63,
      "metadata": {
        "id": "drJWlicKi21B",
        "outputId": "843f10ab-8a05-434f-e43f-a0cc9b862c89",
        "colab": {
          "base_uri": "https://localhost:8080/"
        }
      },
      "outputs": [
        {
          "output_type": "execute_result",
          "data": {
            "text/plain": [
              "0.565821803032602"
            ]
          },
          "metadata": {},
          "execution_count": 63
        }
      ],
      "source": [
        "y_pred_train = best_gbm.predict(X_train)\n",
        "matthews_corrcoef(y_train, y_pred_train)"
      ]
    },
    {
      "cell_type": "code",
      "execution_count": 64,
      "metadata": {
        "id": "T7cNOErYi21C",
        "outputId": "eea57398-3bea-48e8-ba76-bec3e0783c56",
        "colab": {
          "base_uri": "https://localhost:8080/"
        }
      },
      "outputs": [
        {
          "output_type": "execute_result",
          "data": {
            "text/plain": [
              "0.5622422978078754"
            ]
          },
          "metadata": {},
          "execution_count": 64
        }
      ],
      "source": [
        "y_pred_test = best_gbm.predict(X_test)\n",
        "matthews_corrcoef(y_test, y_pred_test)"
      ]
    },
    {
      "cell_type": "markdown",
      "metadata": {
        "id": "n_ZcLfu0i21C"
      },
      "source": [
        "**As stated above, these scores should be close.  Unless this was run with a very unusual random initialization or some type of error, the scores for this model will be similar.  A test run showed approximately .57 for train and .55 for test.  Further work could be done to determine a better model, but this is pretty good.  If these numbers were far apart, it would be wise to try less trees with less depth and a faster learning rate.  If it is believed that the model is underfit and better performance is expected, use more trees with more depth and a slower learning rate.  This can be done by adjusting the grid search or simply inputting the hyperparameters manually.  But also keep in mind, model performance usually has much more to do with feature engineering than with parameter tuning.  Also, note that all data sets are not created equal.  The quality of the data sets the ceiling and floor for model performance.**"
      ]
    },
    {
      "cell_type": "markdown",
      "metadata": {
        "id": "pZa8PnR-i21C"
      },
      "source": [
        "**The next decision to make is what to do with the output.  A threshold can be set to make 1/0 assignments if that is what the use case calls for.  The usual default is to assign every proability of greater than or equal to .5 to be 1 and less than .5 to be 0.  However, this basic rule is not always optimal.  There are methods to find the optimal threshold but that is outside the scope of a beginner's treatment.  If assignment is the purpose, there are plenty of options for determning the best way to do so and the use case may impose further constraints beyond just pure accuracy.**\n",
        "\n",
        "**Some use cases, such as credit scoring, turn the probability into a useful score.  Higher scores will imply less risk and those instances will result in more favorable loan terms.  In marketing applications, the probability of a customer making a purchase might be modeled.  There is a lot to discuss for these types of applications.  But that is far outside the scope of this treatment.**"
      ]
    },
    {
      "cell_type": "markdown",
      "metadata": {
        "id": "q6-PlEFri21D"
      },
      "source": [
        "**In this era of \"black boxes\" and automation, it is still important to understand what the model is doing and how it is making decisions.  GBMs are not as complex as neural nets, but it is still difficult to unpack the model and see the direct effect.  For example, the coefficients cannot simply be ported to an Excel sheet and used to calculate predictions like logistic regression.  But feature importance and partial dependence plots can give us a peak \"under the hood\".  They do not define exactly what the model is doing.  But they do indicate the effect a model will have on data given the inputs.**"
      ]
    },
    {
      "cell_type": "markdown",
      "metadata": {
        "id": "28aF48Pii21D"
      },
      "source": [
        "**Feature importance reveals which predictors are having the greatest impact on making accurate predictions.  The mathematical definition is not hard to find, but it is not really important to this tutorial.  The most important thing to understand is that the feature importances will always add to 100.  Therefore, it gives no objective information about the relationship between a feature and the target.  Rather, it shows which are most important within the context of the model.  Features with low or no importance should probably be removed as they are just wasting computational resources and could even contribute to overfitting of the model.**"
      ]
    },
    {
      "cell_type": "markdown",
      "metadata": {
        "id": "iGSfds-si21D"
      },
      "source": [
        "**The code below extracts feature importance and displays them.**"
      ]
    },
    {
      "cell_type": "code",
      "execution_count": 65,
      "metadata": {
        "id": "j4OC0emsi21D",
        "outputId": "14f645a0-ffff-48ff-8621-faae9dcc5018",
        "colab": {
          "base_uri": "https://localhost:8080/",
          "height": 363
        }
      },
      "outputs": [
        {
          "output_type": "execute_result",
          "data": {
            "text/plain": [
              "         features  importance\n",
              "7    capital_gain        36.1\n",
              "4   education_num        21.0\n",
              "5             age        17.3\n",
              "8    capital_loss        11.0\n",
              "6      gender_num         8.0\n",
              "9  hours_per_week         6.0\n",
              "1        wcb_self         0.2\n",
              "0        wcb_govt         0.1\n",
              "2         wcb_pvt         0.1\n",
              "3       wcb_other         0.1"
            ],
            "text/html": [
              "\n",
              "  <div id=\"df-6e8dc982-ca19-47fa-8061-70f79fb77fbb\">\n",
              "    <div class=\"colab-df-container\">\n",
              "      <div>\n",
              "<style scoped>\n",
              "    .dataframe tbody tr th:only-of-type {\n",
              "        vertical-align: middle;\n",
              "    }\n",
              "\n",
              "    .dataframe tbody tr th {\n",
              "        vertical-align: top;\n",
              "    }\n",
              "\n",
              "    .dataframe thead th {\n",
              "        text-align: right;\n",
              "    }\n",
              "</style>\n",
              "<table border=\"1\" class=\"dataframe\">\n",
              "  <thead>\n",
              "    <tr style=\"text-align: right;\">\n",
              "      <th></th>\n",
              "      <th>features</th>\n",
              "      <th>importance</th>\n",
              "    </tr>\n",
              "  </thead>\n",
              "  <tbody>\n",
              "    <tr>\n",
              "      <th>7</th>\n",
              "      <td>capital_gain</td>\n",
              "      <td>36.1</td>\n",
              "    </tr>\n",
              "    <tr>\n",
              "      <th>4</th>\n",
              "      <td>education_num</td>\n",
              "      <td>21.0</td>\n",
              "    </tr>\n",
              "    <tr>\n",
              "      <th>5</th>\n",
              "      <td>age</td>\n",
              "      <td>17.3</td>\n",
              "    </tr>\n",
              "    <tr>\n",
              "      <th>8</th>\n",
              "      <td>capital_loss</td>\n",
              "      <td>11.0</td>\n",
              "    </tr>\n",
              "    <tr>\n",
              "      <th>6</th>\n",
              "      <td>gender_num</td>\n",
              "      <td>8.0</td>\n",
              "    </tr>\n",
              "    <tr>\n",
              "      <th>9</th>\n",
              "      <td>hours_per_week</td>\n",
              "      <td>6.0</td>\n",
              "    </tr>\n",
              "    <tr>\n",
              "      <th>1</th>\n",
              "      <td>wcb_self</td>\n",
              "      <td>0.2</td>\n",
              "    </tr>\n",
              "    <tr>\n",
              "      <th>0</th>\n",
              "      <td>wcb_govt</td>\n",
              "      <td>0.1</td>\n",
              "    </tr>\n",
              "    <tr>\n",
              "      <th>2</th>\n",
              "      <td>wcb_pvt</td>\n",
              "      <td>0.1</td>\n",
              "    </tr>\n",
              "    <tr>\n",
              "      <th>3</th>\n",
              "      <td>wcb_other</td>\n",
              "      <td>0.1</td>\n",
              "    </tr>\n",
              "  </tbody>\n",
              "</table>\n",
              "</div>\n",
              "      <button class=\"colab-df-convert\" onclick=\"convertToInteractive('df-6e8dc982-ca19-47fa-8061-70f79fb77fbb')\"\n",
              "              title=\"Convert this dataframe to an interactive table.\"\n",
              "              style=\"display:none;\">\n",
              "        \n",
              "  <svg xmlns=\"http://www.w3.org/2000/svg\" height=\"24px\"viewBox=\"0 0 24 24\"\n",
              "       width=\"24px\">\n",
              "    <path d=\"M0 0h24v24H0V0z\" fill=\"none\"/>\n",
              "    <path d=\"M18.56 5.44l.94 2.06.94-2.06 2.06-.94-2.06-.94-.94-2.06-.94 2.06-2.06.94zm-11 1L8.5 8.5l.94-2.06 2.06-.94-2.06-.94L8.5 2.5l-.94 2.06-2.06.94zm10 10l.94 2.06.94-2.06 2.06-.94-2.06-.94-.94-2.06-.94 2.06-2.06.94z\"/><path d=\"M17.41 7.96l-1.37-1.37c-.4-.4-.92-.59-1.43-.59-.52 0-1.04.2-1.43.59L10.3 9.45l-7.72 7.72c-.78.78-.78 2.05 0 2.83L4 21.41c.39.39.9.59 1.41.59.51 0 1.02-.2 1.41-.59l7.78-7.78 2.81-2.81c.8-.78.8-2.07 0-2.86zM5.41 20L4 18.59l7.72-7.72 1.47 1.35L5.41 20z\"/>\n",
              "  </svg>\n",
              "      </button>\n",
              "      \n",
              "  <style>\n",
              "    .colab-df-container {\n",
              "      display:flex;\n",
              "      flex-wrap:wrap;\n",
              "      gap: 12px;\n",
              "    }\n",
              "\n",
              "    .colab-df-convert {\n",
              "      background-color: #E8F0FE;\n",
              "      border: none;\n",
              "      border-radius: 50%;\n",
              "      cursor: pointer;\n",
              "      display: none;\n",
              "      fill: #1967D2;\n",
              "      height: 32px;\n",
              "      padding: 0 0 0 0;\n",
              "      width: 32px;\n",
              "    }\n",
              "\n",
              "    .colab-df-convert:hover {\n",
              "      background-color: #E2EBFA;\n",
              "      box-shadow: 0px 1px 2px rgba(60, 64, 67, 0.3), 0px 1px 3px 1px rgba(60, 64, 67, 0.15);\n",
              "      fill: #174EA6;\n",
              "    }\n",
              "\n",
              "    [theme=dark] .colab-df-convert {\n",
              "      background-color: #3B4455;\n",
              "      fill: #D2E3FC;\n",
              "    }\n",
              "\n",
              "    [theme=dark] .colab-df-convert:hover {\n",
              "      background-color: #434B5C;\n",
              "      box-shadow: 0px 1px 3px 1px rgba(0, 0, 0, 0.15);\n",
              "      filter: drop-shadow(0px 1px 2px rgba(0, 0, 0, 0.3));\n",
              "      fill: #FFFFFF;\n",
              "    }\n",
              "  </style>\n",
              "\n",
              "      <script>\n",
              "        const buttonEl =\n",
              "          document.querySelector('#df-6e8dc982-ca19-47fa-8061-70f79fb77fbb button.colab-df-convert');\n",
              "        buttonEl.style.display =\n",
              "          google.colab.kernel.accessAllowed ? 'block' : 'none';\n",
              "\n",
              "        async function convertToInteractive(key) {\n",
              "          const element = document.querySelector('#df-6e8dc982-ca19-47fa-8061-70f79fb77fbb');\n",
              "          const dataTable =\n",
              "            await google.colab.kernel.invokeFunction('convertToInteractive',\n",
              "                                                     [key], {});\n",
              "          if (!dataTable) return;\n",
              "\n",
              "          const docLinkHtml = 'Like what you see? Visit the ' +\n",
              "            '<a target=\"_blank\" href=https://colab.research.google.com/notebooks/data_table.ipynb>data table notebook</a>'\n",
              "            + ' to learn more about interactive tables.';\n",
              "          element.innerHTML = '';\n",
              "          dataTable['output_type'] = 'display_data';\n",
              "          await google.colab.output.renderOutput(dataTable, element);\n",
              "          const docLink = document.createElement('div');\n",
              "          docLink.innerHTML = docLinkHtml;\n",
              "          element.appendChild(docLink);\n",
              "        }\n",
              "      </script>\n",
              "    </div>\n",
              "  </div>\n",
              "  "
            ]
          },
          "metadata": {},
          "execution_count": 65
        }
      ],
      "source": [
        "imp = list(np.round(best_gbm.feature_importances_*100, decimals = 1))\n",
        "importance = [float(Decimal(\"%.1f\" % e)) for e in imp]\n",
        "fi = pd.DataFrame({'features': features\n",
        "                  , 'importance': importance})\n",
        "fi.sort_values(['importance'], ascending = False)"
      ]
    },
    {
      "cell_type": "markdown",
      "metadata": {
        "id": "PvZ7tF8gi21E"
      },
      "source": [
        "**These results are not surprising.  Capital loss and capital gain are most important.  They are followed by age, education, and hour worked per week.  Gender seems important but the work class buckets are likely just fitting on noise.  A good exercise would be to remove them and observe the impact on the matthews correlation coefficient.**"
      ]
    },
    {
      "cell_type": "markdown",
      "metadata": {
        "id": "-1nSKqnWi21E"
      },
      "source": [
        "**Partial dependence plots show the marginal effect of each predictor on the target.  They do so by getting the model output for every permutation of inputs for all other predictors at fixed values of the predictor being plotted and taking an average.  Think about integrating to find the marginal distribution of one random variable from a join distribution.  Same idea.  For numerical predictors, it is useful to examine whether it is a positive or negative relationship.  The one hot encoded predictors will simply show the impact of the 1 or 0 case as they are coded.  If relationships do not make sense, it would be wise to try to determine why counterintuitive relationships are being modeled.  It is also wise to verify that relationships are similar when partical dependence plots are constructed for both the train and test data sets.**"
      ]
    },
    {
      "cell_type": "markdown",
      "metadata": {
        "id": "-4u8d7vFi21E"
      },
      "source": [
        "**The code below will create partial dependence plots for all predictors.  Note that the y-axis displays the output of the logit function.  It can easily be converted to a probability for more interpretable results.  However, the plots will look exactly the same so this format is sufficient.**"
      ]
    },
    {
      "cell_type": "code",
      "execution_count": 66,
      "metadata": {
        "id": "n4kSqx_fi21F",
        "outputId": "e3be4036-e48a-4a51-b151-da36d8e50bdc",
        "colab": {
          "base_uri": "https://localhost:8080/",
          "height": 1000
        }
      },
      "outputs": [
        {
          "output_type": "display_data",
          "data": {
            "text/plain": [
              "<Figure size 432x288 with 2 Axes>"
            ],
            "image/png": "[encoded data removed]"
          },
          "metadata": {
            "needs_background": "light"
          }
        },
        {
          "output_type": "display_data",
          "data": {
            "text/plain": [
              "<Figure size 432x288 with 2 Axes>"
            ],
            "image/png": "[encoded data removed]"
          },
          "metadata": {
            "needs_background": "light"
          }
        },
        {
          "output_type": "display_data",
          "data": {
            "text/plain": [
              "<Figure size 432x288 with 2 Axes>"
            ],
            "image/png": "[encoded data removed]"
          },
          "metadata": {
            "needs_background": "light"
          }
        },
        {
          "output_type": "display_data",
          "data": {
            "text/plain": [
              "<Figure size 432x288 with 2 Axes>"
            ],
            "image/png": "[encoded data removed]"
          },
          "metadata": {
            "needs_background": "light"
          }
        },
        {
          "output_type": "display_data",
          "data": {
            "text/plain": [
              "<Figure size 432x288 with 2 Axes>"
            ],
            "image/png": "[encoded data removed]"
          },
          "metadata": {
            "needs_background": "light"
          }
        },
        {
          "output_type": "display_data",
          "data": {
            "text/plain": [
              "<Figure size 432x288 with 2 Axes>"
            ],
            "image/png": "[encoded data removed]"
          },
          "metadata": {
            "needs_background": "light"
          }
        },
        {
          "output_type": "display_data",
          "data": {
            "text/plain": [
              "<Figure size 432x288 with 2 Axes>"
            ],
            "image/png": "[encoded data removed]"
          },
          "metadata": {
            "needs_background": "light"
          }
        },
        {
          "output_type": "display_data",
          "data": {
            "text/plain": [
              "<Figure size 432x288 with 2 Axes>"
            ],
            "image/png": "[encoded data removed]"
          },
          "metadata": {
            "needs_background": "light"
          }
        },
        {
          "output_type": "display_data",
          "data": {
            "text/plain": [
              "<Figure size 432x288 with 2 Axes>"
            ],
            "image/png": "[encoded data removed]"
          },
          "metadata": {
            "needs_background": "light"
          }
        },
        {
          "output_type": "display_data",
          "data": {
            "text/plain": [
              "<Figure size 432x288 with 2 Axes>"
            ],
            "image/png": "[encoded data removed]"
          },
          "metadata": {
            "needs_background": "light"
          }
        }
      ],
      "source": [
        "for i in range(len(features)):\n",
        "    PartialDependenceDisplay.from_estimator(best_gbm\n",
        "                                          , X_train\n",
        "                                          , features = [i]\n",
        "                                          , feature_names = features)"
      ]
    },
    {
      "cell_type": "code",
      "execution_count": 67,
      "metadata": {
        "id": "EMQOXAIfi21F",
        "outputId": "f6cbbaa7-fc26-4b83-8ee4-ee4061b0e643",
        "colab": {
          "base_uri": "https://localhost:8080/",
          "height": 1000
        }
      },
      "outputs": [
        {
          "output_type": "display_data",
          "data": {
            "text/plain": [
              "<Figure size 432x288 with 2 Axes>"
            ],
            "image/png": "[encoded data removed]"
          },
          "metadata": {
            "needs_background": "light"
          }
        },
        {
          "output_type": "display_data",
          "data": {
            "text/plain": [
              "<Figure size 432x288 with 2 Axes>"
            ],
            "image/png": "[encoded data removed]"
          },
          "metadata": {
            "needs_background": "light"
          }
        },
        {
          "output_type": "display_data",
          "data": {
            "text/plain": [
              "<Figure size 432x288 with 2 Axes>"
            ],
            "image/png": "[encoded data removed]"
          },
          "metadata": {
            "needs_background": "light"
          }
        },
        {
          "output_type": "display_data",
          "data": {
            "text/plain": [
              "<Figure size 432x288 with 2 Axes>"
            ],
            "image/png": "[encoded data removed]"
          },
          "metadata": {
            "needs_background": "light"
          }
        },
        {
          "output_type": "display_data",
          "data": {
            "text/plain": [
              "<Figure size 432x288 with 2 Axes>"
            ],
            "image/png": "[encoded data removed]"
          },
          "metadata": {
            "needs_background": "light"
          }
        },
        {
          "output_type": "display_data",
          "data": {
            "text/plain": [
              "<Figure size 432x288 with 2 Axes>"
            ],
            "image/png": "[encoded data removed]"
          },
          "metadata": {
            "needs_background": "light"
          }
        },
        {
          "output_type": "display_data",
          "data": {
            "text/plain": [
              "<Figure size 432x288 with 2 Axes>"
            ],
            "image/png": "[encoded data removed]"
          },
          "metadata": {
            "needs_background": "light"
          }
        },
        {
          "output_type": "display_data",
          "data": {
            "text/plain": [
              "<Figure size 432x288 with 2 Axes>"
            ],
            "image/png": "[encoded data removed]"
          },
          "metadata": {
            "needs_background": "light"
          }
        },
        {
          "output_type": "display_data",
          "data": {
            "text/plain": [
              "<Figure size 432x288 with 2 Axes>"
            ],
            "image/png": "[encoded data removed]"
          },
          "metadata": {
            "needs_background": "light"
          }
        },
        {
          "output_type": "display_data",
          "data": {
            "text/plain": [
              "<Figure size 432x288 with 2 Axes>"
            ],
            "image/png": "[encoded data removed]"
          },
          "metadata": {
            "needs_background": "light"
          }
        }
      ],
      "source": [
        "for i in range(len(features)):\n",
        "    PartialDependenceDisplay.from_estimator(best_gbm\n",
        "                                          , X_test\n",
        "                                          , features = [i]\n",
        "                                          , feature_names = features)"
      ]
    },
    {
      "cell_type": "markdown",
      "metadata": {
        "id": "QNK2y97bi21F"
      },
      "source": [
        "**The partial dependence plots reveal something interesting.  The capital gain and capital loss plots are very choppy.  It seems the model has overfit on microtrends (noise), rather than modeling a simpler overall trend.  A good exercise would be to decrease the number of trees, speed up the learning rate, and/or decrease the tree depth.  Then examine the output to see if a simpler relationship has been modeled.**"
      ]
    },
    {
      "cell_type": "markdown",
      "metadata": {
        "id": "FiiD0eAKi21G"
      },
      "source": [
        "**Hopefully this has been a useful beginner's tutorial.  Anyone can build useful machine learning models as long as some basic principles are understood.**"
      ]
    },
    {
      "cell_type": "code",
      "execution_count": 67,
      "metadata": {
        "id": "tRAILVwJi21G"
      },
      "outputs": [],
      "source": []
    }
  ],
  "metadata": {
    "kernelspec": {
      "display_name": "Python 3",
      "language": "python",
      "name": "python3"
    },
    "language_info": {
      "codemirror_mode": {
        "name": "ipython",
        "version": 3
      },
      "file_extension": ".py",
      "mimetype": "text/x-python",
      "name": "python",
      "nbconvert_exporter": "python",
      "pygments_lexer": "ipython3",
      "version": "3.6.5"
    },
    "colab": {
      "provenance": []
    }
  },
  "nbformat": 4,
  "nbformat_minor": 0
}